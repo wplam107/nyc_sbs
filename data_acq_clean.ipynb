{
 "cells": [
  {
   "cell_type": "markdown",
   "metadata": {},
   "source": [
    "# Data Dive into NYC SBS LMI Zip Codes"
   ]
  },
  {
   "cell_type": "code",
   "execution_count": 109,
   "metadata": {},
   "outputs": [],
   "source": [
    "# DS\n",
    "import numpy as np\n",
    "import pandas as pd\n",
    "import geopandas as gpd\n",
    "import matplotlib.pyplot as plt\n",
    "\n",
    "# Webscraping\n",
    "import requests\n",
    "from bs4 import BeautifulSoup\n",
    "\n",
    "# File reading\n",
    "import io\n",
    "import PyPDF2\n",
    "\n",
    "# Text extraction\n",
    "import re\n",
    "\n",
    "# Exporting data\n",
    "import pickle"
   ]
  },
  {
   "cell_type": "markdown",
   "metadata": {},
   "source": [
    "## Zip Codes for Low and Moderate Income (LMI) Communities\n",
    "- The eligible zip codes for the NYC Small Business Services program for LMI communities is available here:\n",
    "https://www1.nyc.gov/assets/sbs/downloads/pdf/businesses/COVID19_LMI_Storefront_Loan_eligible_zipcodes.pdf\n",
    "\n",
    "- Zip codes were extracted with regex"
   ]
  },
  {
   "cell_type": "code",
   "execution_count": 2,
   "metadata": {},
   "outputs": [],
   "source": [
    "url = 'https://www1.nyc.gov/assets/sbs/downloads/pdf/businesses/COVID19_LMI_Storefront_Loan_eligible_zipcodes.pdf'\n",
    "r = requests.get(url)\n",
    "f = io.BytesIO(r.content)"
   ]
  },
  {
   "cell_type": "code",
   "execution_count": 3,
   "metadata": {},
   "outputs": [],
   "source": [
    "pdf = PyPDF2.PdfFileReader(f)"
   ]
  },
  {
   "cell_type": "code",
   "execution_count": 4,
   "metadata": {},
   "outputs": [
    {
     "name": "stdout",
     "output_type": "stream",
     "text": [
      "Number of pages in PDF: 4\n"
     ]
    }
   ],
   "source": [
    "num_pages = pdf.getNumPages()\n",
    "print('Number of pages in PDF:', num_pages)"
   ]
  },
  {
   "cell_type": "code",
   "execution_count": 5,
   "metadata": {},
   "outputs": [],
   "source": [
    "# Extract eligible zip codes from PDF text\n",
    "zip_codes = []\n",
    "for n in range(num_pages):\n",
    "    s = pdf.getPage(n).extractText()\n",
    "    codes = re.findall(r'[0-9]{5}', s)\n",
    "    zip_codes = zip_codes + codes"
   ]
  },
  {
   "cell_type": "code",
   "execution_count": 6,
   "metadata": {},
   "outputs": [
    {
     "name": "stdout",
     "output_type": "stream",
     "text": [
      "First 5 zip codes: 10454 10453 10474 11212 10455\n",
      "Number of zip codes: 139\n"
     ]
    }
   ],
   "source": [
    "print('First 5 zip codes:', *zip_codes[:5])\n",
    "print('Number of zip codes:', len(zip_codes))"
   ]
  },
  {
   "cell_type": "markdown",
   "metadata": {},
   "source": [
    "## Median Income in NYC by Zip Code\n",
    "- Median income by zip codes downloaded here: https://www.psc.isr.umich.edu/dis/census/Features/tract2zip/\n",
    "    - Additional dependency: ```openpyxl```\n",
    "\n",
    "- NYC zip codes taken from here:\n",
    "https://www.health.ny.gov/statistics/cancer/registry/appendix/neighborhoods.htm"
   ]
  },
  {
   "cell_type": "code",
   "execution_count": 7,
   "metadata": {},
   "outputs": [],
   "source": [
    "path = './MedianZIP-3.xlsx'\n",
    "median_income = pd.read_excel(path, dtype='str', engine='openpyxl')"
   ]
  },
  {
   "cell_type": "code",
   "execution_count": 8,
   "metadata": {},
   "outputs": [],
   "source": [
    "# Function to add truncated zeros at start of zip code\n",
    "def add_zeros(x):\n",
    "    if len(x) < 5:\n",
    "        x = (5 - len(x)) * '0' + x\n",
    "    return x"
   ]
  },
  {
   "cell_type": "code",
   "execution_count": 9,
   "metadata": {},
   "outputs": [],
   "source": [
    "median_income['Zip'] = median_income['Zip'].map(add_zeros)"
   ]
  },
  {
   "cell_type": "code",
   "execution_count": 10,
   "metadata": {},
   "outputs": [
    {
     "data": {
      "text/html": [
       "<div>\n",
       "<style scoped>\n",
       "    .dataframe tbody tr th:only-of-type {\n",
       "        vertical-align: middle;\n",
       "    }\n",
       "\n",
       "    .dataframe tbody tr th {\n",
       "        vertical-align: top;\n",
       "    }\n",
       "\n",
       "    .dataframe thead th {\n",
       "        text-align: right;\n",
       "    }\n",
       "</style>\n",
       "<table border=\"1\" class=\"dataframe\">\n",
       "  <thead>\n",
       "    <tr style=\"text-align: right;\">\n",
       "      <th></th>\n",
       "      <th>Zip</th>\n",
       "      <th>Median</th>\n",
       "      <th>Mean</th>\n",
       "      <th>Pop</th>\n",
       "    </tr>\n",
       "  </thead>\n",
       "  <tbody>\n",
       "    <tr>\n",
       "      <th>0</th>\n",
       "      <td>01001</td>\n",
       "      <td>56662.5735</td>\n",
       "      <td>66687.7509</td>\n",
       "      <td>16445</td>\n",
       "    </tr>\n",
       "    <tr>\n",
       "      <th>1</th>\n",
       "      <td>01002</td>\n",
       "      <td>49853.4177</td>\n",
       "      <td>75062.6343</td>\n",
       "      <td>28069</td>\n",
       "    </tr>\n",
       "    <tr>\n",
       "      <th>2</th>\n",
       "      <td>01003</td>\n",
       "      <td>28462</td>\n",
       "      <td>35121</td>\n",
       "      <td>8491</td>\n",
       "    </tr>\n",
       "  </tbody>\n",
       "</table>\n",
       "</div>"
      ],
      "text/plain": [
       "     Zip      Median        Mean    Pop\n",
       "0  01001  56662.5735  66687.7509  16445\n",
       "1  01002  49853.4177  75062.6343  28069\n",
       "2  01003       28462       35121   8491"
      ]
     },
     "execution_count": 10,
     "metadata": {},
     "output_type": "execute_result"
    }
   ],
   "source": [
    "median_income.head(3)"
   ]
  },
  {
   "cell_type": "code",
   "execution_count": 11,
   "metadata": {},
   "outputs": [],
   "source": [
    "url = 'https://www.health.ny.gov/statistics/cancer/registry/appendix/neighborhoods.htm'\n",
    "r = requests.get(url)"
   ]
  },
  {
   "cell_type": "code",
   "execution_count": 12,
   "metadata": {},
   "outputs": [],
   "source": [
    "soup = BeautifulSoup(r.text)"
   ]
  },
  {
   "cell_type": "code",
   "execution_count": 13,
   "metadata": {},
   "outputs": [],
   "source": [
    "# Get zip codes from header3 table divisions\n",
    "zc_lines = soup.find_all(attrs={'headers': 'header3'})\n",
    "nyc_zc = [ zc.strip() for line in zc_lines for zc in line.text.split(',') ]"
   ]
  },
  {
   "cell_type": "code",
   "execution_count": 14,
   "metadata": {},
   "outputs": [
    {
     "data": {
      "text/html": [
       "<div>\n",
       "<style scoped>\n",
       "    .dataframe tbody tr th:only-of-type {\n",
       "        vertical-align: middle;\n",
       "    }\n",
       "\n",
       "    .dataframe tbody tr th {\n",
       "        vertical-align: top;\n",
       "    }\n",
       "\n",
       "    .dataframe thead th {\n",
       "        text-align: right;\n",
       "    }\n",
       "</style>\n",
       "<table border=\"1\" class=\"dataframe\">\n",
       "  <thead>\n",
       "    <tr style=\"text-align: right;\">\n",
       "      <th></th>\n",
       "      <th>zip</th>\n",
       "      <th>median</th>\n",
       "      <th>mean</th>\n",
       "      <th>pop</th>\n",
       "    </tr>\n",
       "  </thead>\n",
       "  <tbody>\n",
       "    <tr>\n",
       "      <th>0</th>\n",
       "      <td>10001</td>\n",
       "      <td>71244.61</td>\n",
       "      <td>123112.7764</td>\n",
       "      <td>17678</td>\n",
       "    </tr>\n",
       "    <tr>\n",
       "      <th>1</th>\n",
       "      <td>10002</td>\n",
       "      <td>30843.9574</td>\n",
       "      <td>46258.6118</td>\n",
       "      <td>70878</td>\n",
       "    </tr>\n",
       "    <tr>\n",
       "      <th>2</th>\n",
       "      <td>10003</td>\n",
       "      <td>89998.5339</td>\n",
       "      <td>139330.9968</td>\n",
       "      <td>53609</td>\n",
       "    </tr>\n",
       "  </tbody>\n",
       "</table>\n",
       "</div>"
      ],
      "text/plain": [
       "     zip      median         mean    pop\n",
       "0  10001    71244.61  123112.7764  17678\n",
       "1  10002  30843.9574   46258.6118  70878\n",
       "2  10003  89998.5339  139330.9968  53609"
      ]
     },
     "execution_count": 14,
     "metadata": {},
     "output_type": "execute_result"
    }
   ],
   "source": [
    "df = median_income.loc[median_income['Zip'].isin(nyc_zc)].reset_index(drop=True)\n",
    "df.columns = [ col.lower() for col in df.columns ]\n",
    "df.head(3)"
   ]
  },
  {
   "cell_type": "markdown",
   "metadata": {},
   "source": [
    "## Merge Data"
   ]
  },
  {
   "cell_type": "code",
   "execution_count": 15,
   "metadata": {},
   "outputs": [],
   "source": [
    "df['eligible'] = np.where(df['zip'].isin(zip_codes), 1, 0)"
   ]
  },
  {
   "cell_type": "code",
   "execution_count": 16,
   "metadata": {},
   "outputs": [
    {
     "data": {
      "text/plain": [
       "0.6022727272727273"
      ]
     },
     "execution_count": 16,
     "metadata": {},
     "output_type": "execute_result"
    }
   ],
   "source": [
    "# Percent zof NYC ip code eligible for program\n",
    "df['eligible'].mean()"
   ]
  },
  {
   "cell_type": "code",
   "execution_count": 17,
   "metadata": {},
   "outputs": [],
   "source": [
    "# Convert data types\n",
    "df = df.astype({\n",
    "    'median': 'float',\n",
    "    'mean': 'float',\n",
    "    'pop': 'int',\n",
    "})"
   ]
  },
  {
   "cell_type": "code",
   "execution_count": 18,
   "metadata": {},
   "outputs": [
    {
     "data": {
      "text/html": [
       "<div>\n",
       "<style scoped>\n",
       "    .dataframe tbody tr th:only-of-type {\n",
       "        vertical-align: middle;\n",
       "    }\n",
       "\n",
       "    .dataframe tbody tr th {\n",
       "        vertical-align: top;\n",
       "    }\n",
       "\n",
       "    .dataframe thead th {\n",
       "        text-align: right;\n",
       "    }\n",
       "</style>\n",
       "<table border=\"1\" class=\"dataframe\">\n",
       "  <thead>\n",
       "    <tr style=\"text-align: right;\">\n",
       "      <th></th>\n",
       "      <th>count</th>\n",
       "      <th>mean</th>\n",
       "      <th>std</th>\n",
       "      <th>min</th>\n",
       "      <th>25%</th>\n",
       "      <th>50%</th>\n",
       "      <th>75%</th>\n",
       "      <th>max</th>\n",
       "    </tr>\n",
       "    <tr>\n",
       "      <th>eligible</th>\n",
       "      <th></th>\n",
       "      <th></th>\n",
       "      <th></th>\n",
       "      <th></th>\n",
       "      <th></th>\n",
       "      <th></th>\n",
       "      <th></th>\n",
       "      <th></th>\n",
       "    </tr>\n",
       "  </thead>\n",
       "  <tbody>\n",
       "    <tr>\n",
       "      <th>0</th>\n",
       "      <td>70.0</td>\n",
       "      <td>80844.157491</td>\n",
       "      <td>21439.600485</td>\n",
       "      <td>1520.1680</td>\n",
       "      <td>68170.43615</td>\n",
       "      <td>75485.72980</td>\n",
       "      <td>93553.168550</td>\n",
       "      <td>145458.7823</td>\n",
       "    </tr>\n",
       "    <tr>\n",
       "      <th>1</th>\n",
       "      <td>106.0</td>\n",
       "      <td>42503.716816</td>\n",
       "      <td>11993.381508</td>\n",
       "      <td>18024.1362</td>\n",
       "      <td>34748.75905</td>\n",
       "      <td>42574.52015</td>\n",
       "      <td>51466.398225</td>\n",
       "      <td>70964.8067</td>\n",
       "    </tr>\n",
       "  </tbody>\n",
       "</table>\n",
       "</div>"
      ],
      "text/plain": [
       "          count          mean           std         min          25%  \\\n",
       "eligible                                                               \n",
       "0          70.0  80844.157491  21439.600485   1520.1680  68170.43615   \n",
       "1         106.0  42503.716816  11993.381508  18024.1362  34748.75905   \n",
       "\n",
       "                  50%           75%          max  \n",
       "eligible                                          \n",
       "0         75485.72980  93553.168550  145458.7823  \n",
       "1         42574.52015  51466.398225   70964.8067  "
      ]
     },
     "execution_count": 18,
     "metadata": {},
     "output_type": "execute_result"
    }
   ],
   "source": [
    "# Descriptive stats of eligible vs. not eligible\n",
    "df.groupby('eligible')['median'].describe()"
   ]
  },
  {
   "cell_type": "code",
   "execution_count": 19,
   "metadata": {},
   "outputs": [
    {
     "data": {
      "text/html": [
       "<div>\n",
       "<style scoped>\n",
       "    .dataframe tbody tr th:only-of-type {\n",
       "        vertical-align: middle;\n",
       "    }\n",
       "\n",
       "    .dataframe tbody tr th {\n",
       "        vertical-align: top;\n",
       "    }\n",
       "\n",
       "    .dataframe thead th {\n",
       "        text-align: right;\n",
       "    }\n",
       "</style>\n",
       "<table border=\"1\" class=\"dataframe\">\n",
       "  <thead>\n",
       "    <tr style=\"text-align: right;\">\n",
       "      <th></th>\n",
       "      <th>zip</th>\n",
       "      <th>median</th>\n",
       "      <th>mean</th>\n",
       "      <th>pop</th>\n",
       "      <th>eligible</th>\n",
       "    </tr>\n",
       "  </thead>\n",
       "  <tbody>\n",
       "    <tr>\n",
       "      <th>68</th>\n",
       "      <td>10464</td>\n",
       "      <td>1520.168</td>\n",
       "      <td>1673.4115</td>\n",
       "      <td>109</td>\n",
       "      <td>0</td>\n",
       "    </tr>\n",
       "  </tbody>\n",
       "</table>\n",
       "</div>"
      ],
      "text/plain": [
       "      zip    median       mean  pop  eligible\n",
       "68  10464  1520.168  1673.4115  109         0"
      ]
     },
     "execution_count": 19,
     "metadata": {},
     "output_type": "execute_result"
    }
   ],
   "source": [
    "df.loc[df['median'] == df['median'].min()] # Zip Code: 10464, Pelham Bay"
   ]
  },
  {
   "cell_type": "code",
   "execution_count": 20,
   "metadata": {},
   "outputs": [],
   "source": [
    "# Drop Pelham Bay\n",
    "df.drop(68, inplace=True)"
   ]
  },
  {
   "cell_type": "code",
   "execution_count": 21,
   "metadata": {},
   "outputs": [],
   "source": [
    "# DataFrame where median income of zip code is below maximum median income of eligible zip codes\n",
    "missing_df = df.loc[\n",
    "    (df['eligible'] == 0) &\n",
    "    (df['median'] <= df.loc[df['eligible'] == 1]['median'].max())\n",
    "]"
   ]
  },
  {
   "cell_type": "markdown",
   "metadata": {},
   "source": [
    "## Geopandas Polygonal Data\n",
    "- Polygonal data from: https://catalog.data.gov/dataset/tiger-line-shapefile-2019-2010-nation-u-s-2010-census-5-digit-zip-code-tabulation-area-zcta5-na\n",
    "- Additional dependency: ```descartes```"
   ]
  },
  {
   "cell_type": "code",
   "execution_count": 56,
   "metadata": {
    "scrolled": true
   },
   "outputs": [],
   "source": [
    "# Read shapefiles\n",
    "geo_df = gpd.read_file('./tl_2019_us_zcta510')"
   ]
  },
  {
   "cell_type": "code",
   "execution_count": 57,
   "metadata": {},
   "outputs": [
    {
     "data": {
      "text/html": [
       "<div>\n",
       "<style scoped>\n",
       "    .dataframe tbody tr th:only-of-type {\n",
       "        vertical-align: middle;\n",
       "    }\n",
       "\n",
       "    .dataframe tbody tr th {\n",
       "        vertical-align: top;\n",
       "    }\n",
       "\n",
       "    .dataframe thead th {\n",
       "        text-align: right;\n",
       "    }\n",
       "</style>\n",
       "<table border=\"1\" class=\"dataframe\">\n",
       "  <thead>\n",
       "    <tr style=\"text-align: right;\">\n",
       "      <th></th>\n",
       "      <th>ZCTA5CE10</th>\n",
       "      <th>GEOID10</th>\n",
       "      <th>CLASSFP10</th>\n",
       "      <th>MTFCC10</th>\n",
       "      <th>FUNCSTAT10</th>\n",
       "      <th>ALAND10</th>\n",
       "      <th>AWATER10</th>\n",
       "      <th>INTPTLAT10</th>\n",
       "      <th>INTPTLON10</th>\n",
       "      <th>geometry</th>\n",
       "    </tr>\n",
       "  </thead>\n",
       "  <tbody>\n",
       "    <tr>\n",
       "      <th>0</th>\n",
       "      <td>43451</td>\n",
       "      <td>43451</td>\n",
       "      <td>B5</td>\n",
       "      <td>G6350</td>\n",
       "      <td>S</td>\n",
       "      <td>63484186</td>\n",
       "      <td>157689</td>\n",
       "      <td>+41.3183010</td>\n",
       "      <td>-083.6174935</td>\n",
       "      <td>POLYGON ((-83.70873 41.32733, -83.70815 41.327...</td>\n",
       "    </tr>\n",
       "    <tr>\n",
       "      <th>1</th>\n",
       "      <td>43452</td>\n",
       "      <td>43452</td>\n",
       "      <td>B5</td>\n",
       "      <td>G6350</td>\n",
       "      <td>S</td>\n",
       "      <td>121522304</td>\n",
       "      <td>13721730</td>\n",
       "      <td>+41.5157923</td>\n",
       "      <td>-082.9809454</td>\n",
       "      <td>POLYGON ((-83.08698 41.53780, -83.08256 41.537...</td>\n",
       "    </tr>\n",
       "    <tr>\n",
       "      <th>2</th>\n",
       "      <td>43456</td>\n",
       "      <td>43456</td>\n",
       "      <td>B5</td>\n",
       "      <td>G6350</td>\n",
       "      <td>S</td>\n",
       "      <td>9320975</td>\n",
       "      <td>1003775</td>\n",
       "      <td>+41.6318300</td>\n",
       "      <td>-082.8393923</td>\n",
       "      <td>MULTIPOLYGON (((-82.83558 41.71082, -82.83515 ...</td>\n",
       "    </tr>\n",
       "  </tbody>\n",
       "</table>\n",
       "</div>"
      ],
      "text/plain": [
       "  ZCTA5CE10 GEOID10 CLASSFP10 MTFCC10 FUNCSTAT10    ALAND10  AWATER10  \\\n",
       "0     43451   43451        B5   G6350          S   63484186    157689   \n",
       "1     43452   43452        B5   G6350          S  121522304  13721730   \n",
       "2     43456   43456        B5   G6350          S    9320975   1003775   \n",
       "\n",
       "    INTPTLAT10    INTPTLON10  \\\n",
       "0  +41.3183010  -083.6174935   \n",
       "1  +41.5157923  -082.9809454   \n",
       "2  +41.6318300  -082.8393923   \n",
       "\n",
       "                                            geometry  \n",
       "0  POLYGON ((-83.70873 41.32733, -83.70815 41.327...  \n",
       "1  POLYGON ((-83.08698 41.53780, -83.08256 41.537...  \n",
       "2  MULTIPOLYGON (((-82.83558 41.71082, -82.83515 ...  "
      ]
     },
     "execution_count": 57,
     "metadata": {},
     "output_type": "execute_result"
    }
   ],
   "source": [
    "geo_df.head(3)"
   ]
  },
  {
   "cell_type": "code",
   "execution_count": 77,
   "metadata": {},
   "outputs": [],
   "source": [
    "nyc_geo = geo_df.loc[geo_df['ZCTA5CE10'].isin(nyc_zc)].copy()"
   ]
  },
  {
   "cell_type": "code",
   "execution_count": 78,
   "metadata": {},
   "outputs": [],
   "source": [
    "nyc_geo.loc[nyc_geo['ZCTA5CE10'] == '10464'] # index 11275, drop Pelham Bay\n",
    "nyc_geo.drop(11275, inplace=True)"
   ]
  },
  {
   "cell_type": "code",
   "execution_count": 79,
   "metadata": {},
   "outputs": [
    {
     "data": {
      "text/plain": [
       "{'11359'}"
      ]
     },
     "execution_count": 79,
     "metadata": {},
     "output_type": "execute_result"
    }
   ],
   "source": [
    "set(nyc_geo['ZCTA5CE10']) - set(df['zip']) # missing zip code 11359, Fort Totten"
   ]
  },
  {
   "cell_type": "code",
   "execution_count": 80,
   "metadata": {},
   "outputs": [],
   "source": [
    "nyc_geo.loc[nyc_geo['ZCTA5CE10'] == '11359'] # index 14196\n",
    "nyc_geo.drop(14196, inplace=True)"
   ]
  },
  {
   "cell_type": "code",
   "execution_count": 81,
   "metadata": {},
   "outputs": [],
   "source": [
    "nyc_geo.rename(columns={'ZCTA5CE10': 'zip'}, inplace=True)"
   ]
  },
  {
   "cell_type": "code",
   "execution_count": 82,
   "metadata": {},
   "outputs": [],
   "source": [
    "drop_cols = [ col for col in nyc_geo.columns if col not in ['zip', 'geometry'] ]"
   ]
  },
  {
   "cell_type": "code",
   "execution_count": 83,
   "metadata": {},
   "outputs": [],
   "source": [
    "nyc_geo.drop(columns=drop_cols, inplace=True)"
   ]
  },
  {
   "cell_type": "code",
   "execution_count": 84,
   "metadata": {},
   "outputs": [],
   "source": [
    "nyc_geo = pd.merge(nyc_geo, df, on='zip')\n",
    "nyc_geo.set_index('zip', inplace=True)"
   ]
  },
  {
   "cell_type": "code",
   "execution_count": 85,
   "metadata": {},
   "outputs": [
    {
     "data": {
      "text/html": [
       "<div>\n",
       "<style scoped>\n",
       "    .dataframe tbody tr th:only-of-type {\n",
       "        vertical-align: middle;\n",
       "    }\n",
       "\n",
       "    .dataframe tbody tr th {\n",
       "        vertical-align: top;\n",
       "    }\n",
       "\n",
       "    .dataframe thead th {\n",
       "        text-align: right;\n",
       "    }\n",
       "</style>\n",
       "<table border=\"1\" class=\"dataframe\">\n",
       "  <thead>\n",
       "    <tr style=\"text-align: right;\">\n",
       "      <th></th>\n",
       "      <th>geometry</th>\n",
       "      <th>median</th>\n",
       "      <th>mean</th>\n",
       "      <th>pop</th>\n",
       "      <th>eligible</th>\n",
       "    </tr>\n",
       "    <tr>\n",
       "      <th>zip</th>\n",
       "      <th></th>\n",
       "      <th></th>\n",
       "      <th></th>\n",
       "      <th></th>\n",
       "      <th></th>\n",
       "    </tr>\n",
       "  </thead>\n",
       "  <tbody>\n",
       "    <tr>\n",
       "      <th>10065</th>\n",
       "      <td>POLYGON ((-73.97210 40.76552, -73.97165 40.766...</td>\n",
       "      <td>108154.9505</td>\n",
       "      <td>191673.5228</td>\n",
       "      <td>31500</td>\n",
       "      <td>0</td>\n",
       "    </tr>\n",
       "    <tr>\n",
       "      <th>10075</th>\n",
       "      <td>POLYGON ((-73.96469 40.77568, -73.96423 40.776...</td>\n",
       "      <td>112267.5519</td>\n",
       "      <td>188422.4971</td>\n",
       "      <td>25187</td>\n",
       "      <td>0</td>\n",
       "    </tr>\n",
       "    <tr>\n",
       "      <th>10128</th>\n",
       "      <td>MULTIPOLYGON (((-73.93951 40.77922, -73.93957 ...</td>\n",
       "      <td>105186.9788</td>\n",
       "      <td>180473.0702</td>\n",
       "      <td>59434</td>\n",
       "      <td>0</td>\n",
       "    </tr>\n",
       "    <tr>\n",
       "      <th>10280</th>\n",
       "      <td>POLYGON ((-74.01960 40.70564, -74.01955 40.706...</td>\n",
       "      <td>98937.8355</td>\n",
       "      <td>138990.0141</td>\n",
       "      <td>4298</td>\n",
       "      <td>0</td>\n",
       "    </tr>\n",
       "    <tr>\n",
       "      <th>10301</th>\n",
       "      <td>MULTIPOLYGON (((-74.09460 40.61219, -74.09442 ...</td>\n",
       "      <td>56776.4674</td>\n",
       "      <td>75009.8666</td>\n",
       "      <td>38618</td>\n",
       "      <td>1</td>\n",
       "    </tr>\n",
       "  </tbody>\n",
       "</table>\n",
       "</div>"
      ],
      "text/plain": [
       "                                                geometry       median  \\\n",
       "zip                                                                     \n",
       "10065  POLYGON ((-73.97210 40.76552, -73.97165 40.766...  108154.9505   \n",
       "10075  POLYGON ((-73.96469 40.77568, -73.96423 40.776...  112267.5519   \n",
       "10128  MULTIPOLYGON (((-73.93951 40.77922, -73.93957 ...  105186.9788   \n",
       "10280  POLYGON ((-74.01960 40.70564, -74.01955 40.706...   98937.8355   \n",
       "10301  MULTIPOLYGON (((-74.09460 40.61219, -74.09442 ...   56776.4674   \n",
       "\n",
       "              mean    pop  eligible  \n",
       "zip                                  \n",
       "10065  191673.5228  31500         0  \n",
       "10075  188422.4971  25187         0  \n",
       "10128  180473.0702  59434         0  \n",
       "10280  138990.0141   4298         0  \n",
       "10301   75009.8666  38618         1  "
      ]
     },
     "execution_count": 85,
     "metadata": {},
     "output_type": "execute_result"
    }
   ],
   "source": [
    "nyc_geo.head()"
   ]
  },
  {
   "cell_type": "code",
   "execution_count": 98,
   "metadata": {},
   "outputs": [
    {
     "data": {
      "text/plain": [
       "<AxesSubplot:>"
      ]
     },
     "execution_count": 98,
     "metadata": {},
     "output_type": "execute_result"
    },
    {
     "data": {
      "image/png": "[encoded data removed]",
      "text/plain": [
       "<Figure size 720x720 with 2 Axes>"
      ]
     },
     "metadata": {
      "needs_background": "light"
     },
     "output_type": "display_data"
    }
   ],
   "source": [
    "fig, ax = plt.subplots(1, 1, figsize=(10,10))\n",
    "nyc_geo.plot(column='median', ax=ax, legend=True)"
   ]
  },
  {
   "cell_type": "code",
   "execution_count": 111,
   "metadata": {},
   "outputs": [],
   "source": [
    "# with open('nyc_data.p', 'wb') as f:\n",
    "#     pickle.dump(nyc_geo, f)"
   ]
  },
  {
   "cell_type": "markdown",
   "metadata": {},
   "source": [
    "## Alternate Measures\n",
    "- Income by FIPS/Community District: https://data.cccnewyork.org/data/download#0,8/66\n",
    "- Geodata from: https://www1.nyc.gov/site/planning/data-maps/open-data/districts-download-metadata.page"
   ]
  },
  {
   "cell_type": "code",
   "execution_count": 112,
   "metadata": {},
   "outputs": [],
   "source": [
    "path = '/Users/waynelam/Projects/nyc_sbs/med_income.csv'\n",
    "fips_df = pd.read_csv(path)"
   ]
  },
  {
   "cell_type": "code",
   "execution_count": 136,
   "metadata": {},
   "outputs": [],
   "source": [
    "path = './nycd_20d'\n",
    "fips_geo = gpd.read_file(path)"
   ]
  },
  {
   "cell_type": "code",
   "execution_count": 139,
   "metadata": {},
   "outputs": [
    {
     "data": {
      "text/html": [
       "<div>\n",
       "<style scoped>\n",
       "    .dataframe tbody tr th:only-of-type {\n",
       "        vertical-align: middle;\n",
       "    }\n",
       "\n",
       "    .dataframe tbody tr th {\n",
       "        vertical-align: top;\n",
       "    }\n",
       "\n",
       "    .dataframe thead th {\n",
       "        text-align: right;\n",
       "    }\n",
       "</style>\n",
       "<table border=\"1\" class=\"dataframe\">\n",
       "  <thead>\n",
       "    <tr style=\"text-align: right;\">\n",
       "      <th></th>\n",
       "      <th>Location</th>\n",
       "      <th>Household Type</th>\n",
       "      <th>TimeFrame</th>\n",
       "      <th>DataFormat</th>\n",
       "      <th>Data</th>\n",
       "      <th>Fips</th>\n",
       "    </tr>\n",
       "  </thead>\n",
       "  <tbody>\n",
       "    <tr>\n",
       "      <th>0</th>\n",
       "      <td>New York City</td>\n",
       "      <td>All Households</td>\n",
       "      <td>2005</td>\n",
       "      <td>Dollars</td>\n",
       "      <td>56998.60927</td>\n",
       "      <td>3651000</td>\n",
       "    </tr>\n",
       "    <tr>\n",
       "      <th>1</th>\n",
       "      <td>New York City</td>\n",
       "      <td>Families</td>\n",
       "      <td>2005</td>\n",
       "      <td>Dollars</td>\n",
       "      <td>64793.69467</td>\n",
       "      <td>3651000</td>\n",
       "    </tr>\n",
       "    <tr>\n",
       "      <th>2</th>\n",
       "      <td>New York City</td>\n",
       "      <td>Families with Children</td>\n",
       "      <td>2005</td>\n",
       "      <td>Dollars</td>\n",
       "      <td>55448.77832</td>\n",
       "      <td>3651000</td>\n",
       "    </tr>\n",
       "    <tr>\n",
       "      <th>3</th>\n",
       "      <td>New York City</td>\n",
       "      <td>Families without Children</td>\n",
       "      <td>2005</td>\n",
       "      <td>Dollars</td>\n",
       "      <td>72309.25932</td>\n",
       "      <td>3651000</td>\n",
       "    </tr>\n",
       "    <tr>\n",
       "      <th>4</th>\n",
       "      <td>New York City</td>\n",
       "      <td>All Households</td>\n",
       "      <td>2006</td>\n",
       "      <td>Dollars</td>\n",
       "      <td>59080.75625</td>\n",
       "      <td>3651000</td>\n",
       "    </tr>\n",
       "  </tbody>\n",
       "</table>\n",
       "</div>"
      ],
      "text/plain": [
       "        Location             Household Type  TimeFrame DataFormat  \\\n",
       "0  New York City             All Households       2005    Dollars   \n",
       "1  New York City                   Families       2005    Dollars   \n",
       "2  New York City     Families with Children       2005    Dollars   \n",
       "3  New York City  Families without Children       2005    Dollars   \n",
       "4  New York City             All Households       2006    Dollars   \n",
       "\n",
       "          Data     Fips  \n",
       "0  56998.60927  3651000  \n",
       "1  64793.69467  3651000  \n",
       "2  55448.77832  3651000  \n",
       "3  72309.25932  3651000  \n",
       "4  59080.75625  3651000  "
      ]
     },
     "execution_count": 139,
     "metadata": {},
     "output_type": "execute_result"
    }
   ],
   "source": [
    "fips_df.head()"
   ]
  },
  {
   "cell_type": "code",
   "execution_count": 138,
   "metadata": {},
   "outputs": [
    {
     "data": {
      "text/html": [
       "<div>\n",
       "<style scoped>\n",
       "    .dataframe tbody tr th:only-of-type {\n",
       "        vertical-align: middle;\n",
       "    }\n",
       "\n",
       "    .dataframe tbody tr th {\n",
       "        vertical-align: top;\n",
       "    }\n",
       "\n",
       "    .dataframe thead th {\n",
       "        text-align: right;\n",
       "    }\n",
       "</style>\n",
       "<table border=\"1\" class=\"dataframe\">\n",
       "  <thead>\n",
       "    <tr style=\"text-align: right;\">\n",
       "      <th></th>\n",
       "      <th>BoroCD</th>\n",
       "      <th>Shape_Leng</th>\n",
       "      <th>Shape_Area</th>\n",
       "      <th>geometry</th>\n",
       "    </tr>\n",
       "  </thead>\n",
       "  <tbody>\n",
       "    <tr>\n",
       "      <th>0</th>\n",
       "      <td>101</td>\n",
       "      <td>74168.587892</td>\n",
       "      <td>4.268912e+07</td>\n",
       "      <td>MULTIPOLYGON (((972081.788 190733.467, 972184....</td>\n",
       "    </tr>\n",
       "    <tr>\n",
       "      <th>1</th>\n",
       "      <td>102</td>\n",
       "      <td>34130.595277</td>\n",
       "      <td>3.768921e+07</td>\n",
       "      <td>POLYGON ((985125.733 207917.071, 986018.960 20...</td>\n",
       "    </tr>\n",
       "    <tr>\n",
       "      <th>2</th>\n",
       "      <td>103</td>\n",
       "      <td>30695.640963</td>\n",
       "      <td>4.687978e+07</td>\n",
       "      <td>POLYGON ((992073.467 203714.076, 992068.667 20...</td>\n",
       "    </tr>\n",
       "    <tr>\n",
       "      <th>3</th>\n",
       "      <td>104</td>\n",
       "      <td>67623.669916</td>\n",
       "      <td>4.931172e+07</td>\n",
       "      <td>POLYGON ((985929.324 220967.002, 985995.954 22...</td>\n",
       "    </tr>\n",
       "    <tr>\n",
       "      <th>4</th>\n",
       "      <td>105</td>\n",
       "      <td>35288.188527</td>\n",
       "      <td>4.379033e+07</td>\n",
       "      <td>POLYGON ((991725.244 217725.299, 992169.505 21...</td>\n",
       "    </tr>\n",
       "  </tbody>\n",
       "</table>\n",
       "</div>"
      ],
      "text/plain": [
       "   BoroCD    Shape_Leng    Shape_Area  \\\n",
       "0     101  74168.587892  4.268912e+07   \n",
       "1     102  34130.595277  3.768921e+07   \n",
       "2     103  30695.640963  4.687978e+07   \n",
       "3     104  67623.669916  4.931172e+07   \n",
       "4     105  35288.188527  4.379033e+07   \n",
       "\n",
       "                                            geometry  \n",
       "0  MULTIPOLYGON (((972081.788 190733.467, 972184....  \n",
       "1  POLYGON ((985125.733 207917.071, 986018.960 20...  \n",
       "2  POLYGON ((992073.467 203714.076, 992068.667 20...  \n",
       "3  POLYGON ((985929.324 220967.002, 985995.954 22...  \n",
       "4  POLYGON ((991725.244 217725.299, 992169.505 21...  "
      ]
     },
     "execution_count": 138,
     "metadata": {},
     "output_type": "execute_result"
    }
   ],
   "source": [
    "fips_geo.head()"
   ]
  },
  {
   "cell_type": "code",
   "execution_count": 140,
   "metadata": {},
   "outputs": [],
   "source": [
    "fips_geo.rename(columns={'BoroCD': 'Fips'}, inplace=True)"
   ]
  },
  {
   "cell_type": "code",
   "execution_count": 143,
   "metadata": {},
   "outputs": [],
   "source": [
    "com_dist_df = pd.merge(fips_df, fips_geo, on='Fips')"
   ]
  },
  {
   "cell_type": "code",
   "execution_count": 145,
   "metadata": {},
   "outputs": [],
   "source": [
    "# with open('cd_df.p', 'wb') as f:\n",
    "#     pickle.dump(com_dist_df, f)"
   ]
  },
  {
   "cell_type": "code",
   "execution_count": null,
   "metadata": {},
   "outputs": [],
   "source": []
  }
 ],
 "metadata": {
  "kernelspec": {
   "display_name": "cong-env",
   "language": "python",
   "name": "cong-env"
  },
  "language_info": {
   "codemirror_mode": {
    "name": "ipython",
    "version": 3
   },
   "file_extension": ".py",
   "mimetype": "text/x-python",
   "name": "python",
   "nbconvert_exporter": "python",
   "pygments_lexer": "ipython3",
   "version": "3.7.7"
  }
 },
 "nbformat": 4,
 "nbformat_minor": 4
}
