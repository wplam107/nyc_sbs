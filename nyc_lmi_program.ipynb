{
 "cells": [
  {
   "cell_type": "markdown",
   "metadata": {},
   "source": [
    "# Data Dive into NYC SBS LMI Zip Codes"
   ]
  },
  {
   "cell_type": "code",
   "execution_count": 62,
   "metadata": {},
   "outputs": [],
   "source": [
    "# DS\n",
    "import numpy as np\n",
    "import pandas as pd\n",
    "import geopandas as gpd\n",
    "import matplotlib.pyplot as plt\n",
    "import plotly.express as px\n",
    "pd.set_option('max_columns', 100)\n",
    "\n",
    "# Webscraping\n",
    "import requests\n",
    "from bs4 import BeautifulSoup\n",
    "\n",
    "# File reading\n",
    "import io\n",
    "import PyPDF2\n",
    "\n",
    "# Text extraction\n",
    "import re"
   ]
  },
  {
   "cell_type": "markdown",
   "metadata": {},
   "source": [
    "## Zip Codes for Low and Moderate Income (LMI) Communities\n",
    "- The eligible zip codes for the NYC Small Business Services program for LMI communities is available here:\n",
    "https://www1.nyc.gov/assets/sbs/downloads/pdf/businesses/COVID19_LMI_Storefront_Loan_eligible_zipcodes.pdf\n",
    "\n",
    "- Zip codes were extracted with regex"
   ]
  },
  {
   "cell_type": "code",
   "execution_count": 2,
   "metadata": {},
   "outputs": [],
   "source": [
    "url = 'https://www1.nyc.gov/assets/sbs/downloads/pdf/businesses/COVID19_LMI_Storefront_Loan_eligible_zipcodes.pdf'\n",
    "r = requests.get(url)\n",
    "f = io.BytesIO(r.content)"
   ]
  },
  {
   "cell_type": "code",
   "execution_count": 3,
   "metadata": {},
   "outputs": [],
   "source": [
    "pdf = PyPDF2.PdfFileReader(f)"
   ]
  },
  {
   "cell_type": "code",
   "execution_count": 4,
   "metadata": {},
   "outputs": [
    {
     "name": "stdout",
     "output_type": "stream",
     "text": [
      "Number of pages in PDF: 4\n"
     ]
    }
   ],
   "source": [
    "num_pages = pdf.getNumPages()\n",
    "print('Number of pages in PDF:', num_pages)"
   ]
  },
  {
   "cell_type": "code",
   "execution_count": 5,
   "metadata": {},
   "outputs": [],
   "source": [
    "# Extract eligible zip codes from PDF text\n",
    "zip_codes = []\n",
    "for n in range(num_pages):\n",
    "    s = pdf.getPage(n).extractText()\n",
    "    codes = re.findall(r'[0-9]{5}', s)\n",
    "    zip_codes = zip_codes + codes"
   ]
  },
  {
   "cell_type": "code",
   "execution_count": 6,
   "metadata": {},
   "outputs": [
    {
     "name": "stdout",
     "output_type": "stream",
     "text": [
      "First 5 zip codes: 10454 10453 10474 11212 10455\n",
      "Number of zip codes: 139\n"
     ]
    }
   ],
   "source": [
    "print('First 5 zip codes:', *zip_codes[:5])\n",
    "print('Number of zip codes:', len(zip_codes))"
   ]
  },
  {
   "cell_type": "markdown",
   "metadata": {},
   "source": [
    "## Median Income in NYC by Zip Code\n",
    "- Median income by zip codes downloaded here: https://www.psc.isr.umich.edu/dis/census/Features/tract2zip/\n",
    "    - Additional dependency: ```openpyxl```\n",
    "\n",
    "- NYC zip codes taken from here:\n",
    "https://www.health.ny.gov/statistics/cancer/registry/appendix/neighborhoods.htm"
   ]
  },
  {
   "cell_type": "code",
   "execution_count": 7,
   "metadata": {},
   "outputs": [],
   "source": [
    "path = './MedianZIP-3.xlsx'\n",
    "median_income = pd.read_excel(path, dtype='str', engine='openpyxl')"
   ]
  },
  {
   "cell_type": "code",
   "execution_count": 8,
   "metadata": {},
   "outputs": [],
   "source": [
    "# Function to add truncated zeros at start of zip code\n",
    "def add_zeros(x):\n",
    "    if len(x) < 5:\n",
    "        x = (5 - len(x)) * '0' + x\n",
    "    return x"
   ]
  },
  {
   "cell_type": "code",
   "execution_count": 9,
   "metadata": {},
   "outputs": [],
   "source": [
    "median_income['Zip'] = median_income['Zip'].map(add_zeros)"
   ]
  },
  {
   "cell_type": "code",
   "execution_count": 10,
   "metadata": {},
   "outputs": [
    {
     "data": {
      "text/html": [
       "<div>\n",
       "<style scoped>\n",
       "    .dataframe tbody tr th:only-of-type {\n",
       "        vertical-align: middle;\n",
       "    }\n",
       "\n",
       "    .dataframe tbody tr th {\n",
       "        vertical-align: top;\n",
       "    }\n",
       "\n",
       "    .dataframe thead th {\n",
       "        text-align: right;\n",
       "    }\n",
       "</style>\n",
       "<table border=\"1\" class=\"dataframe\">\n",
       "  <thead>\n",
       "    <tr style=\"text-align: right;\">\n",
       "      <th></th>\n",
       "      <th>Zip</th>\n",
       "      <th>Median</th>\n",
       "      <th>Mean</th>\n",
       "      <th>Pop</th>\n",
       "    </tr>\n",
       "  </thead>\n",
       "  <tbody>\n",
       "    <tr>\n",
       "      <th>0</th>\n",
       "      <td>01001</td>\n",
       "      <td>56662.5735</td>\n",
       "      <td>66687.7509</td>\n",
       "      <td>16445</td>\n",
       "    </tr>\n",
       "    <tr>\n",
       "      <th>1</th>\n",
       "      <td>01002</td>\n",
       "      <td>49853.4177</td>\n",
       "      <td>75062.6343</td>\n",
       "      <td>28069</td>\n",
       "    </tr>\n",
       "    <tr>\n",
       "      <th>2</th>\n",
       "      <td>01003</td>\n",
       "      <td>28462</td>\n",
       "      <td>35121</td>\n",
       "      <td>8491</td>\n",
       "    </tr>\n",
       "  </tbody>\n",
       "</table>\n",
       "</div>"
      ],
      "text/plain": [
       "     Zip      Median        Mean    Pop\n",
       "0  01001  56662.5735  66687.7509  16445\n",
       "1  01002  49853.4177  75062.6343  28069\n",
       "2  01003       28462       35121   8491"
      ]
     },
     "execution_count": 10,
     "metadata": {},
     "output_type": "execute_result"
    }
   ],
   "source": [
    "median_income.head(3)"
   ]
  },
  {
   "cell_type": "code",
   "execution_count": 11,
   "metadata": {},
   "outputs": [],
   "source": [
    "url = 'https://www.health.ny.gov/statistics/cancer/registry/appendix/neighborhoods.htm'\n",
    "r = requests.get(url)"
   ]
  },
  {
   "cell_type": "code",
   "execution_count": 12,
   "metadata": {},
   "outputs": [],
   "source": [
    "soup = BeautifulSoup(r.text)"
   ]
  },
  {
   "cell_type": "code",
   "execution_count": 13,
   "metadata": {},
   "outputs": [],
   "source": [
    "# Get zip codes from header3 table divisions\n",
    "zc_lines = soup.find_all(attrs={'headers': 'header3'})\n",
    "nyc_zc = [ zc.strip() for line in zc_lines for zc in line.text.split(',') ]"
   ]
  },
  {
   "cell_type": "code",
   "execution_count": 35,
   "metadata": {},
   "outputs": [
    {
     "data": {
      "text/html": [
       "<div>\n",
       "<style scoped>\n",
       "    .dataframe tbody tr th:only-of-type {\n",
       "        vertical-align: middle;\n",
       "    }\n",
       "\n",
       "    .dataframe tbody tr th {\n",
       "        vertical-align: top;\n",
       "    }\n",
       "\n",
       "    .dataframe thead th {\n",
       "        text-align: right;\n",
       "    }\n",
       "</style>\n",
       "<table border=\"1\" class=\"dataframe\">\n",
       "  <thead>\n",
       "    <tr style=\"text-align: right;\">\n",
       "      <th></th>\n",
       "      <th>zip</th>\n",
       "      <th>median</th>\n",
       "      <th>mean</th>\n",
       "      <th>pop</th>\n",
       "    </tr>\n",
       "  </thead>\n",
       "  <tbody>\n",
       "    <tr>\n",
       "      <th>0</th>\n",
       "      <td>10001</td>\n",
       "      <td>71244.61</td>\n",
       "      <td>123112.7764</td>\n",
       "      <td>17678</td>\n",
       "    </tr>\n",
       "    <tr>\n",
       "      <th>1</th>\n",
       "      <td>10002</td>\n",
       "      <td>30843.9574</td>\n",
       "      <td>46258.6118</td>\n",
       "      <td>70878</td>\n",
       "    </tr>\n",
       "    <tr>\n",
       "      <th>2</th>\n",
       "      <td>10003</td>\n",
       "      <td>89998.5339</td>\n",
       "      <td>139330.9968</td>\n",
       "      <td>53609</td>\n",
       "    </tr>\n",
       "  </tbody>\n",
       "</table>\n",
       "</div>"
      ],
      "text/plain": [
       "     zip      median         mean    pop\n",
       "0  10001    71244.61  123112.7764  17678\n",
       "1  10002  30843.9574   46258.6118  70878\n",
       "2  10003  89998.5339  139330.9968  53609"
      ]
     },
     "execution_count": 35,
     "metadata": {},
     "output_type": "execute_result"
    }
   ],
   "source": [
    "df = median_income.loc[median_income['Zip'].isin(nyc_zc)].reset_index(drop=True)\n",
    "df.columns = [ col.lower() for col in df.columns ]\n",
    "df.head(3)"
   ]
  },
  {
   "cell_type": "markdown",
   "metadata": {},
   "source": [
    "## Merge Data"
   ]
  },
  {
   "cell_type": "code",
   "execution_count": 36,
   "metadata": {},
   "outputs": [],
   "source": [
    "df['eligible'] = np.where(df['zip'].isin(zip_codes), 1, 0)"
   ]
  },
  {
   "cell_type": "code",
   "execution_count": 37,
   "metadata": {},
   "outputs": [
    {
     "data": {
      "text/plain": [
       "0.6022727272727273"
      ]
     },
     "execution_count": 37,
     "metadata": {},
     "output_type": "execute_result"
    }
   ],
   "source": [
    "# Percent zof NYC ip code eligible for program\n",
    "df['eligible'].mean()"
   ]
  },
  {
   "cell_type": "code",
   "execution_count": 38,
   "metadata": {},
   "outputs": [],
   "source": [
    "# Convert data types\n",
    "df = df.astype({\n",
    "    'median': 'float',\n",
    "    'mean': 'float',\n",
    "    'pop': 'int',\n",
    "})"
   ]
  },
  {
   "cell_type": "code",
   "execution_count": 39,
   "metadata": {},
   "outputs": [
    {
     "data": {
      "text/html": [
       "<div>\n",
       "<style scoped>\n",
       "    .dataframe tbody tr th:only-of-type {\n",
       "        vertical-align: middle;\n",
       "    }\n",
       "\n",
       "    .dataframe tbody tr th {\n",
       "        vertical-align: top;\n",
       "    }\n",
       "\n",
       "    .dataframe thead th {\n",
       "        text-align: right;\n",
       "    }\n",
       "</style>\n",
       "<table border=\"1\" class=\"dataframe\">\n",
       "  <thead>\n",
       "    <tr style=\"text-align: right;\">\n",
       "      <th></th>\n",
       "      <th>count</th>\n",
       "      <th>mean</th>\n",
       "      <th>std</th>\n",
       "      <th>min</th>\n",
       "      <th>25%</th>\n",
       "      <th>50%</th>\n",
       "      <th>75%</th>\n",
       "      <th>max</th>\n",
       "    </tr>\n",
       "    <tr>\n",
       "      <th>eligible</th>\n",
       "      <th></th>\n",
       "      <th></th>\n",
       "      <th></th>\n",
       "      <th></th>\n",
       "      <th></th>\n",
       "      <th></th>\n",
       "      <th></th>\n",
       "      <th></th>\n",
       "    </tr>\n",
       "  </thead>\n",
       "  <tbody>\n",
       "    <tr>\n",
       "      <th>0</th>\n",
       "      <td>70.0</td>\n",
       "      <td>80844.157491</td>\n",
       "      <td>21439.600485</td>\n",
       "      <td>1520.1680</td>\n",
       "      <td>68170.43615</td>\n",
       "      <td>75485.72980</td>\n",
       "      <td>93553.168550</td>\n",
       "      <td>145458.7823</td>\n",
       "    </tr>\n",
       "    <tr>\n",
       "      <th>1</th>\n",
       "      <td>106.0</td>\n",
       "      <td>42503.716816</td>\n",
       "      <td>11993.381508</td>\n",
       "      <td>18024.1362</td>\n",
       "      <td>34748.75905</td>\n",
       "      <td>42574.52015</td>\n",
       "      <td>51466.398225</td>\n",
       "      <td>70964.8067</td>\n",
       "    </tr>\n",
       "  </tbody>\n",
       "</table>\n",
       "</div>"
      ],
      "text/plain": [
       "          count          mean           std         min          25%  \\\n",
       "eligible                                                               \n",
       "0          70.0  80844.157491  21439.600485   1520.1680  68170.43615   \n",
       "1         106.0  42503.716816  11993.381508  18024.1362  34748.75905   \n",
       "\n",
       "                  50%           75%          max  \n",
       "eligible                                          \n",
       "0         75485.72980  93553.168550  145458.7823  \n",
       "1         42574.52015  51466.398225   70964.8067  "
      ]
     },
     "execution_count": 39,
     "metadata": {},
     "output_type": "execute_result"
    }
   ],
   "source": [
    "# Descriptive stats of eligible vs. not eligible\n",
    "df.groupby('eligible')['median'].describe()"
   ]
  },
  {
   "cell_type": "code",
   "execution_count": 40,
   "metadata": {},
   "outputs": [
    {
     "data": {
      "text/html": [
       "<div>\n",
       "<style scoped>\n",
       "    .dataframe tbody tr th:only-of-type {\n",
       "        vertical-align: middle;\n",
       "    }\n",
       "\n",
       "    .dataframe tbody tr th {\n",
       "        vertical-align: top;\n",
       "    }\n",
       "\n",
       "    .dataframe thead th {\n",
       "        text-align: right;\n",
       "    }\n",
       "</style>\n",
       "<table border=\"1\" class=\"dataframe\">\n",
       "  <thead>\n",
       "    <tr style=\"text-align: right;\">\n",
       "      <th></th>\n",
       "      <th>zip</th>\n",
       "      <th>median</th>\n",
       "      <th>mean</th>\n",
       "      <th>pop</th>\n",
       "      <th>eligible</th>\n",
       "    </tr>\n",
       "  </thead>\n",
       "  <tbody>\n",
       "    <tr>\n",
       "      <th>68</th>\n",
       "      <td>10464</td>\n",
       "      <td>1520.168</td>\n",
       "      <td>1673.4115</td>\n",
       "      <td>109</td>\n",
       "      <td>0</td>\n",
       "    </tr>\n",
       "  </tbody>\n",
       "</table>\n",
       "</div>"
      ],
      "text/plain": [
       "      zip    median       mean  pop  eligible\n",
       "68  10464  1520.168  1673.4115  109         0"
      ]
     },
     "execution_count": 40,
     "metadata": {},
     "output_type": "execute_result"
    }
   ],
   "source": [
    "df.loc[df['median'] == df['median'].min()] # Zip Code: 10464, Pelham Bay"
   ]
  },
  {
   "cell_type": "code",
   "execution_count": 41,
   "metadata": {},
   "outputs": [],
   "source": [
    "# Drop Pelham Bay\n",
    "df.drop(68, inplace=True)"
   ]
  },
  {
   "cell_type": "code",
   "execution_count": 42,
   "metadata": {},
   "outputs": [],
   "source": [
    "# DataFrame where median income of zip code is below maximum median income of eligible zip codes\n",
    "missing_df = df.loc[\n",
    "    (df['eligible'] == 0) &\n",
    "    (df['median'] <= df.loc[df['eligible'] == 1]['median'].max())\n",
    "]"
   ]
  },
  {
   "cell_type": "markdown",
   "metadata": {},
   "source": [
    "## Geopandas Polygonal Data\n",
    "- Polygonal data from: https://catalog.data.gov/dataset/tiger-line-shapefile-2019-2010-nation-u-s-2010-census-5-digit-zip-code-tabulation-area-zcta5-na\n",
    "- Additional dependency: ```descartes```"
   ]
  },
  {
   "cell_type": "code",
   "execution_count": 22,
   "metadata": {
    "scrolled": true
   },
   "outputs": [],
   "source": [
    "geo_df = gpd.read_file('./tl_2019_us_zcta510')"
   ]
  },
  {
   "cell_type": "code",
   "execution_count": 23,
   "metadata": {},
   "outputs": [
    {
     "data": {
      "text/html": [
       "<div>\n",
       "<style scoped>\n",
       "    .dataframe tbody tr th:only-of-type {\n",
       "        vertical-align: middle;\n",
       "    }\n",
       "\n",
       "    .dataframe tbody tr th {\n",
       "        vertical-align: top;\n",
       "    }\n",
       "\n",
       "    .dataframe thead th {\n",
       "        text-align: right;\n",
       "    }\n",
       "</style>\n",
       "<table border=\"1\" class=\"dataframe\">\n",
       "  <thead>\n",
       "    <tr style=\"text-align: right;\">\n",
       "      <th></th>\n",
       "      <th>ZCTA5CE10</th>\n",
       "      <th>GEOID10</th>\n",
       "      <th>CLASSFP10</th>\n",
       "      <th>MTFCC10</th>\n",
       "      <th>FUNCSTAT10</th>\n",
       "      <th>ALAND10</th>\n",
       "      <th>AWATER10</th>\n",
       "      <th>INTPTLAT10</th>\n",
       "      <th>INTPTLON10</th>\n",
       "      <th>geometry</th>\n",
       "    </tr>\n",
       "  </thead>\n",
       "  <tbody>\n",
       "    <tr>\n",
       "      <th>0</th>\n",
       "      <td>43451</td>\n",
       "      <td>43451</td>\n",
       "      <td>B5</td>\n",
       "      <td>G6350</td>\n",
       "      <td>S</td>\n",
       "      <td>63484186</td>\n",
       "      <td>157689</td>\n",
       "      <td>+41.3183010</td>\n",
       "      <td>-083.6174935</td>\n",
       "      <td>POLYGON ((-83.70873 41.32733, -83.70815 41.327...</td>\n",
       "    </tr>\n",
       "    <tr>\n",
       "      <th>1</th>\n",
       "      <td>43452</td>\n",
       "      <td>43452</td>\n",
       "      <td>B5</td>\n",
       "      <td>G6350</td>\n",
       "      <td>S</td>\n",
       "      <td>121522304</td>\n",
       "      <td>13721730</td>\n",
       "      <td>+41.5157923</td>\n",
       "      <td>-082.9809454</td>\n",
       "      <td>POLYGON ((-83.08698 41.53780, -83.08256 41.537...</td>\n",
       "    </tr>\n",
       "    <tr>\n",
       "      <th>2</th>\n",
       "      <td>43456</td>\n",
       "      <td>43456</td>\n",
       "      <td>B5</td>\n",
       "      <td>G6350</td>\n",
       "      <td>S</td>\n",
       "      <td>9320975</td>\n",
       "      <td>1003775</td>\n",
       "      <td>+41.6318300</td>\n",
       "      <td>-082.8393923</td>\n",
       "      <td>MULTIPOLYGON (((-82.83558 41.71082, -82.83515 ...</td>\n",
       "    </tr>\n",
       "  </tbody>\n",
       "</table>\n",
       "</div>"
      ],
      "text/plain": [
       "  ZCTA5CE10 GEOID10 CLASSFP10 MTFCC10 FUNCSTAT10    ALAND10  AWATER10  \\\n",
       "0     43451   43451        B5   G6350          S   63484186    157689   \n",
       "1     43452   43452        B5   G6350          S  121522304  13721730   \n",
       "2     43456   43456        B5   G6350          S    9320975   1003775   \n",
       "\n",
       "    INTPTLAT10    INTPTLON10  \\\n",
       "0  +41.3183010  -083.6174935   \n",
       "1  +41.5157923  -082.9809454   \n",
       "2  +41.6318300  -082.8393923   \n",
       "\n",
       "                                            geometry  \n",
       "0  POLYGON ((-83.70873 41.32733, -83.70815 41.327...  \n",
       "1  POLYGON ((-83.08698 41.53780, -83.08256 41.537...  \n",
       "2  MULTIPOLYGON (((-82.83558 41.71082, -82.83515 ...  "
      ]
     },
     "execution_count": 23,
     "metadata": {},
     "output_type": "execute_result"
    }
   ],
   "source": [
    "geo_df.head(3)"
   ]
  },
  {
   "cell_type": "code",
   "execution_count": 43,
   "metadata": {},
   "outputs": [],
   "source": [
    "nyc_geo = geo_df.loc[geo_df['ZCTA5CE10'].isin(nyc_zc)].copy()"
   ]
  },
  {
   "cell_type": "code",
   "execution_count": 44,
   "metadata": {},
   "outputs": [],
   "source": [
    "nyc_geo.loc[nyc_geo['ZCTA5CE10'] == '10464'] # index 11275, drop Pelham Bay\n",
    "nyc_geo.drop(11275, inplace=True)"
   ]
  },
  {
   "cell_type": "code",
   "execution_count": 45,
   "metadata": {},
   "outputs": [
    {
     "data": {
      "text/plain": [
       "{'11359'}"
      ]
     },
     "execution_count": 45,
     "metadata": {},
     "output_type": "execute_result"
    }
   ],
   "source": [
    "set(nyc_geo['ZCTA5CE10']) - set(df['zip']) # missing zip code 11359, Fort Totten"
   ]
  },
  {
   "cell_type": "code",
   "execution_count": 46,
   "metadata": {},
   "outputs": [],
   "source": [
    "nyc_geo.loc[nyc_geo['ZCTA5CE10'] == '11359'] # index 14196\n",
    "nyc_geo.drop(14196, inplace=True)"
   ]
  },
  {
   "cell_type": "code",
   "execution_count": 47,
   "metadata": {},
   "outputs": [],
   "source": [
    "nyc_geo.rename(columns={'ZCTA5CE10': 'zip'}, inplace=True)"
   ]
  },
  {
   "cell_type": "code",
   "execution_count": 55,
   "metadata": {},
   "outputs": [],
   "source": [
    "drop_cols = [ col for col in nyc_geo.columns if col not in ['zip', 'geometry'] ]"
   ]
  },
  {
   "cell_type": "code",
   "execution_count": 56,
   "metadata": {},
   "outputs": [],
   "source": [
    "nyc_geo.drop(columns=drop_cols, inplace=True)"
   ]
  },
  {
   "cell_type": "code",
   "execution_count": 58,
   "metadata": {},
   "outputs": [],
   "source": [
    "nyc_geo = pd.merge(nyc_geo, df, on='zip')"
   ]
  },
  {
   "cell_type": "code",
   "execution_count": 63,
   "metadata": {},
   "outputs": [
    {
     "data": {
      "text/html": [
       "<div>\n",
       "<style scoped>\n",
       "    .dataframe tbody tr th:only-of-type {\n",
       "        vertical-align: middle;\n",
       "    }\n",
       "\n",
       "    .dataframe tbody tr th {\n",
       "        vertical-align: top;\n",
       "    }\n",
       "\n",
       "    .dataframe thead th {\n",
       "        text-align: right;\n",
       "    }\n",
       "</style>\n",
       "<table border=\"1\" class=\"dataframe\">\n",
       "  <thead>\n",
       "    <tr style=\"text-align: right;\">\n",
       "      <th></th>\n",
       "      <th>zip</th>\n",
       "      <th>geometry</th>\n",
       "      <th>median</th>\n",
       "      <th>mean</th>\n",
       "      <th>pop</th>\n",
       "      <th>eligible</th>\n",
       "    </tr>\n",
       "  </thead>\n",
       "  <tbody>\n",
       "    <tr>\n",
       "      <th>0</th>\n",
       "      <td>10065</td>\n",
       "      <td>POLYGON ((-73.97210 40.76552, -73.97165 40.766...</td>\n",
       "      <td>108154.9505</td>\n",
       "      <td>191673.5228</td>\n",
       "      <td>31500</td>\n",
       "      <td>0</td>\n",
       "    </tr>\n",
       "    <tr>\n",
       "      <th>1</th>\n",
       "      <td>10075</td>\n",
       "      <td>POLYGON ((-73.96469 40.77568, -73.96423 40.776...</td>\n",
       "      <td>112267.5519</td>\n",
       "      <td>188422.4971</td>\n",
       "      <td>25187</td>\n",
       "      <td>0</td>\n",
       "    </tr>\n",
       "    <tr>\n",
       "      <th>2</th>\n",
       "      <td>10128</td>\n",
       "      <td>MULTIPOLYGON (((-73.93951 40.77922, -73.93957 ...</td>\n",
       "      <td>105186.9788</td>\n",
       "      <td>180473.0702</td>\n",
       "      <td>59434</td>\n",
       "      <td>0</td>\n",
       "    </tr>\n",
       "    <tr>\n",
       "      <th>3</th>\n",
       "      <td>10280</td>\n",
       "      <td>POLYGON ((-74.01960 40.70564, -74.01955 40.706...</td>\n",
       "      <td>98937.8355</td>\n",
       "      <td>138990.0141</td>\n",
       "      <td>4298</td>\n",
       "      <td>0</td>\n",
       "    </tr>\n",
       "    <tr>\n",
       "      <th>4</th>\n",
       "      <td>10301</td>\n",
       "      <td>MULTIPOLYGON (((-74.09460 40.61219, -74.09442 ...</td>\n",
       "      <td>56776.4674</td>\n",
       "      <td>75009.8666</td>\n",
       "      <td>38618</td>\n",
       "      <td>1</td>\n",
       "    </tr>\n",
       "    <tr>\n",
       "      <th>...</th>\n",
       "      <td>...</td>\n",
       "      <td>...</td>\n",
       "      <td>...</td>\n",
       "      <td>...</td>\n",
       "      <td>...</td>\n",
       "      <td>...</td>\n",
       "    </tr>\n",
       "    <tr>\n",
       "      <th>170</th>\n",
       "      <td>11432</td>\n",
       "      <td>POLYGON ((-73.81184 40.71787, -73.81177 40.717...</td>\n",
       "      <td>50291.2065</td>\n",
       "      <td>64694.3772</td>\n",
       "      <td>54915</td>\n",
       "      <td>1</td>\n",
       "    </tr>\n",
       "    <tr>\n",
       "      <th>171</th>\n",
       "      <td>11433</td>\n",
       "      <td>POLYGON ((-73.80396 40.70105, -73.80348 40.701...</td>\n",
       "      <td>41780.0631</td>\n",
       "      <td>54771.0096</td>\n",
       "      <td>28391</td>\n",
       "      <td>1</td>\n",
       "    </tr>\n",
       "    <tr>\n",
       "      <th>172</th>\n",
       "      <td>11434</td>\n",
       "      <td>POLYGON ((-73.80216 40.66525, -73.80183 40.665...</td>\n",
       "      <td>51640.5104</td>\n",
       "      <td>59039.1065</td>\n",
       "      <td>52603</td>\n",
       "      <td>1</td>\n",
       "    </tr>\n",
       "    <tr>\n",
       "      <th>173</th>\n",
       "      <td>11435</td>\n",
       "      <td>POLYGON ((-73.82569 40.71607, -73.82557 40.716...</td>\n",
       "      <td>44721.7965</td>\n",
       "      <td>52869.8387</td>\n",
       "      <td>47317</td>\n",
       "      <td>1</td>\n",
       "    </tr>\n",
       "    <tr>\n",
       "      <th>174</th>\n",
       "      <td>11436</td>\n",
       "      <td>POLYGON ((-73.80570 40.68295, -73.80519 40.683...</td>\n",
       "      <td>62297.1561</td>\n",
       "      <td>69595.4619</td>\n",
       "      <td>18291</td>\n",
       "      <td>0</td>\n",
       "    </tr>\n",
       "  </tbody>\n",
       "</table>\n",
       "<p>175 rows × 6 columns</p>\n",
       "</div>"
      ],
      "text/plain": [
       "       zip                                           geometry       median  \\\n",
       "0    10065  POLYGON ((-73.97210 40.76552, -73.97165 40.766...  108154.9505   \n",
       "1    10075  POLYGON ((-73.96469 40.77568, -73.96423 40.776...  112267.5519   \n",
       "2    10128  MULTIPOLYGON (((-73.93951 40.77922, -73.93957 ...  105186.9788   \n",
       "3    10280  POLYGON ((-74.01960 40.70564, -74.01955 40.706...   98937.8355   \n",
       "4    10301  MULTIPOLYGON (((-74.09460 40.61219, -74.09442 ...   56776.4674   \n",
       "..     ...                                                ...          ...   \n",
       "170  11432  POLYGON ((-73.81184 40.71787, -73.81177 40.717...   50291.2065   \n",
       "171  11433  POLYGON ((-73.80396 40.70105, -73.80348 40.701...   41780.0631   \n",
       "172  11434  POLYGON ((-73.80216 40.66525, -73.80183 40.665...   51640.5104   \n",
       "173  11435  POLYGON ((-73.82569 40.71607, -73.82557 40.716...   44721.7965   \n",
       "174  11436  POLYGON ((-73.80570 40.68295, -73.80519 40.683...   62297.1561   \n",
       "\n",
       "            mean    pop  eligible  \n",
       "0    191673.5228  31500         0  \n",
       "1    188422.4971  25187         0  \n",
       "2    180473.0702  59434         0  \n",
       "3    138990.0141   4298         0  \n",
       "4     75009.8666  38618         1  \n",
       "..           ...    ...       ...  \n",
       "170   64694.3772  54915         1  \n",
       "171   54771.0096  28391         1  \n",
       "172   59039.1065  52603         1  \n",
       "173   52869.8387  47317         1  \n",
       "174   69595.4619  18291         0  \n",
       "\n",
       "[175 rows x 6 columns]"
      ]
     },
     "execution_count": 63,
     "metadata": {},
     "output_type": "execute_result"
    }
   ],
   "source": [
    "px."
   ]
  },
  {
   "cell_type": "code",
   "execution_count": null,
   "metadata": {},
   "outputs": [],
   "source": []
  }
 ],
 "metadata": {
  "kernelspec": {
   "display_name": "cong-env",
   "language": "python",
   "name": "cong-env"
  },
  "language_info": {
   "codemirror_mode": {
    "name": "ipython",
    "version": 3
   },
   "file_extension": ".py",
   "mimetype": "text/x-python",
   "name": "python",
   "nbconvert_exporter": "python",
   "pygments_lexer": "ipython3",
   "version": "3.7.7"
  }
 },
 "nbformat": 4,
 "nbformat_minor": 4
}
